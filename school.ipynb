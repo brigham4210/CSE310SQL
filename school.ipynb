{
 "cells": [
  {
   "cell_type": "code",
   "execution_count": 1,
   "metadata": {},
   "outputs": [],
   "source": [
    "import sqlite3\n",
    "\n",
    "# connect to database\n",
    "conn = sqlite3.connect('school.db')\n",
    "\n",
    "# create a cursor\n",
    "c = conn.cursor()"
   ]
  },
  {
   "cell_type": "markdown",
   "metadata": {},
   "source": [
    "Create the tables"
   ]
  },
  {
   "cell_type": "code",
   "execution_count": null,
   "metadata": {},
   "outputs": [],
   "source": [
    "c.execute(\"\"\"CREATE TABLE students (\n",
    "            first_name text,\n",
    "            last_name text,\n",
    "            grade integer,\n",
    "            email text\n",
    "        )\"\"\")\n",
    "    # DATA types\n",
    "    # NULL # INTEGER # REAL # TEXT # BLOB"
   ]
  },
  {
   "cell_type": "markdown",
   "metadata": {},
   "source": [
    "Insert a record"
   ]
  },
  {
   "cell_type": "code",
   "execution_count": 2,
   "metadata": {},
   "outputs": [
    {
     "data": {
      "text/plain": [
       "<sqlite3.Cursor at 0x1dd3c57fdc0>"
      ]
     },
     "execution_count": 2,
     "metadata": {},
     "output_type": "execute_result"
    }
   ],
   "source": [
    "c.execute(\"INSERT INTO students VALUES ('Jake', 'Ho', 4, 'jakeh@la.edu')\")"
   ]
  },
  {
   "cell_type": "markdown",
   "metadata": {},
   "source": [
    "Insert many records"
   ]
  },
  {
   "cell_type": "code",
   "execution_count": 3,
   "metadata": {},
   "outputs": [
    {
     "data": {
      "text/plain": [
       "<sqlite3.Cursor at 0x1dd3c57fdc0>"
      ]
     },
     "execution_count": 3,
     "metadata": {},
     "output_type": "execute_result"
    }
   ],
   "source": [
    "many_students = [\n",
    "    ('Fenny', 'Du', 1, 'fennyd@la.edu'),\n",
    "    ('Nono', 'Yang', 3, 'nonoy@la.edu'),\n",
    "    ('Brianna', 'Li', 1, 'briannal@la.edu')\n",
    "]\n",
    "c.executemany(\"INSERT INTO students VALUES (?,?,?,?)\",many_students)"
   ]
  },
  {
   "cell_type": "markdown",
   "metadata": {},
   "source": [
    "Check list"
   ]
  },
  {
   "cell_type": "code",
   "execution_count": 4,
   "metadata": {},
   "outputs": [
    {
     "data": {
      "text/plain": [
       "9"
      ]
     },
     "execution_count": 4,
     "metadata": {},
     "output_type": "execute_result"
    }
   ],
   "source": [
    "c.execute(\"SELECT * FROM students\")\n",
    "len(c.fetchall())"
   ]
  },
  {
   "cell_type": "markdown",
   "metadata": {},
   "source": [
    "Update or modify record"
   ]
  },
  {
   "cell_type": "code",
   "execution_count": 8,
   "metadata": {},
   "outputs": [],
   "source": [
    "c.execute(\"\"\"UPDATE students SET grade = grade + 1\n",
    "\"\"\")\n",
    "conn.commit()"
   ]
  },
  {
   "cell_type": "markdown",
   "metadata": {},
   "source": [
    "Make order"
   ]
  },
  {
   "cell_type": "code",
   "execution_count": 9,
   "metadata": {},
   "outputs": [
    {
     "name": "stdout",
     "output_type": "stream",
     "text": [
      "[('Fenny', 'Du', 2, 'fennyd@la.edu'), ('Brianna', 'Li', 2, 'briannal@la.edu'), ('Dude', 'Ma', 4, 'dudem@la.edu'), ('Nono', 'Yang', 4, 'nonoy@la.edu'), ('Ray', 'Li', 5, 'rayl@la.edu'), ('Jake', 'Ho', 5, 'jakeh@la.edu'), ('Jake', 'Ho', 6, 'jakeh@la.edu'), ('Duke', 'Chen', 6, 'dukec@la.edu')]\n"
     ]
    }
   ],
   "source": [
    "c.execute(\"SELECT * FROM students ORDER BY grade\")\n",
    "print(c.fetchall())"
   ]
  },
  {
   "cell_type": "markdown",
   "metadata": {},
   "source": [
    "Filter the data"
   ]
  },
  {
   "cell_type": "code",
   "execution_count": 6,
   "metadata": {},
   "outputs": [
    {
     "name": "stdout",
     "output_type": "stream",
     "text": [
      "[('Ray', 'Zhou', 6, 'rayz@la.edu')]\n"
     ]
    }
   ],
   "source": [
    "c.execute(\"SELECT * FROM students WHERE grade = 6\")\n",
    "print(c.fetchall())"
   ]
  },
  {
   "cell_type": "markdown",
   "metadata": {},
   "source": [
    "Delete record"
   ]
  },
  {
   "cell_type": "code",
   "execution_count": 7,
   "metadata": {},
   "outputs": [],
   "source": [
    "c.execute(\"DELETE from students WHERE grade = 6\")\n",
    "conn.commit()"
   ]
  },
  {
   "cell_type": "markdown",
   "metadata": {},
   "source": [
    "Commit and close"
   ]
  },
  {
   "cell_type": "code",
   "execution_count": 10,
   "metadata": {},
   "outputs": [],
   "source": [
    "# Commit our command\n",
    "conn.commit()\n",
    "\n",
    "# close the conection\n",
    "conn.close()"
   ]
  }
 ],
 "metadata": {
  "interpreter": {
   "hash": "9f99eaf478833c38157c5c11a2ad198fe163372b2f26bfe893fd8efad699dd9b"
  },
  "kernelspec": {
   "display_name": "Python 3.9.7 ('env': venv)",
   "language": "python",
   "name": "python3"
  },
  "language_info": {
   "codemirror_mode": {
    "name": "ipython",
    "version": 3
   },
   "file_extension": ".py",
   "mimetype": "text/x-python",
   "name": "python",
   "nbconvert_exporter": "python",
   "pygments_lexer": "ipython3",
   "version": "3.9.7"
  },
  "orig_nbformat": 4
 },
 "nbformat": 4,
 "nbformat_minor": 2
}
